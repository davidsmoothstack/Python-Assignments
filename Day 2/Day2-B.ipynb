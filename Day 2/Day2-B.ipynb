{
 "cells": [
  {
   "cell_type": "code",
   "execution_count": null,
   "metadata": {},
   "outputs": [],
   "source": [
    "arr = [1, \"word\", 1.1]\n",
    "\n",
    "for elem in arr:\n",
    "  print(elem)"
   ]
  },
  {
   "cell_type": "code",
   "execution_count": null,
   "metadata": {},
   "outputs": [],
   "source": [
    "arr = [1, 1, [1, 2]]\n",
    "print(arr[2][1])"
   ]
  },
  {
   "cell_type": "code",
   "execution_count": null,
   "metadata": {},
   "outputs": [],
   "source": [
    "lst = [\"a\", \"b\", \"c\"]\n",
    "print(lst[1:])"
   ]
  },
  {
   "cell_type": "code",
   "execution_count": null,
   "metadata": {},
   "outputs": [],
   "source": [
    "days = { \"Sun\": 1, \"Mon\": 2, \"Tue\": 3, \"Wed\": 4, \"Thur\": 5, \"Fri\": 6, \"Sat\": 7, }"
   ]
  },
  {
   "cell_type": "code",
   "execution_count": null,
   "metadata": {},
   "outputs": [],
   "source": [
    "D = {\"k1\": [1, 2, 3]}\n",
    "print(D[\"k1\"][1])"
   ]
  },
  {
   "cell_type": "code",
   "execution_count": null,
   "metadata": {},
   "outputs": [],
   "source": [
    "print(1, [2,3])"
   ]
  },
  {
   "cell_type": "code",
   "execution_count": null,
   "metadata": {},
   "outputs": [],
   "source": [
    "single = set(\"Mississippi\")\n",
    "print(\"\".join(single))"
   ]
  },
  {
   "cell_type": "code",
   "execution_count": null,
   "metadata": {},
   "outputs": [],
   "source": [
    "single.add('X')"
   ]
  },
  {
   "cell_type": "code",
   "execution_count": null,
   "metadata": {},
   "outputs": [],
   "source": [
    "print(set([1,1,2,3]))"
   ]
  },
  {
   "cell_type": "code",
   "execution_count": null,
   "metadata": {},
   "outputs": [],
   "source": [
    "for i in range(2000, 3201):\n",
    "  if i % 5 == 0 and i % 7 != 0:\n",
    "    print(i, end=\",\")"
   ]
  },
  {
   "cell_type": "code",
   "execution_count": null,
   "metadata": {},
   "outputs": [],
   "source": [
    "def factorial(n):\n",
    "  if(n == 1): return 1\n",
    "  return n * factorial(n - 1)\n",
    "\n",
    "print(factorial(5))"
   ]
  },
  {
   "cell_type": "code",
   "execution_count": null,
   "metadata": {},
   "outputs": [],
   "source": [
    "dict = {}\n",
    "input = 10\n",
    "\n",
    "for i in range(1, 8):\n",
    "  dict[i] = i * i\n",
    "\n",
    "print(dict)"
   ]
  },
  {
   "cell_type": "code",
   "execution_count": null,
   "metadata": {},
   "outputs": [],
   "source": [
    "input = \"34,67,55,33,12,98\"\n",
    "values = input.split(\",\")\n",
    "\n",
    "print(tuple(values))\n"
   ]
  },
  {
   "cell_type": "code",
   "execution_count": null,
   "metadata": {},
   "outputs": [],
   "source": [
    "class MyClass():\n",
    "  def __init__(self):\n",
    "      self.s = \"\"\n",
    "\n",
    "  def getString(self):\n",
    "      return self.s\n",
    "\n",
    "  def printString(self):\n",
    "      print(self.s.upper())\n",
    "\n",
    "\n",
    "myClass = MyClass()\n",
    "myClass.getString()\n",
    "myClass.printString()\n"
   ]
  }
 ],
 "metadata": {
  "interpreter": {
   "hash": "8b2332570d47693ad2ba38e4a8b45274812561ba199ac05a97c3450187fde315"
  },
  "kernelspec": {
   "display_name": "Python 3.8.8 64-bit ('base': conda)",
   "language": "python",
   "name": "python3"
  },
  "language_info": {
   "codemirror_mode": {
    "name": "ipython",
    "version": 3
   },
   "file_extension": ".py",
   "mimetype": "text/x-python",
   "name": "python",
   "nbconvert_exporter": "python",
   "pygments_lexer": "ipython3",
   "version": "3.8.8"
  },
  "orig_nbformat": 4
 },
 "nbformat": 4,
 "nbformat_minor": 2
}
