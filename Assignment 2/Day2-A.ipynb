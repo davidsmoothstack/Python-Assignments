{
 "cells": [
  {
   "cell_type": "markdown",
   "metadata": {},
   "source": [
    "Coding Exercise 3"
   ]
  },
  {
   "cell_type": "code",
   "execution_count": null,
   "metadata": {},
   "outputs": [],
   "source": [
    "print(\"Hello world\"[8])"
   ]
  },
  {
   "cell_type": "code",
   "execution_count": null,
   "metadata": {},
   "outputs": [],
   "source": [
    "\"thinker\"[2:5]"
   ]
  },
  {
   "cell_type": "code",
   "execution_count": null,
   "metadata": {},
   "outputs": [],
   "source": [
    "S=\"hello\"[1]\n",
    "print(S[1])"
   ]
  },
  {
   "cell_type": "code",
   "execution_count": null,
   "metadata": {},
   "outputs": [],
   "source": [
    "S=\"Sammy\"\n",
    "print(S[2:])"
   ]
  },
  {
   "cell_type": "code",
   "execution_count": null,
   "metadata": {},
   "outputs": [],
   "source": [
    "print(set(\"Mississippi\"))"
   ]
  },
  {
   "cell_type": "code",
   "execution_count": null,
   "metadata": {},
   "outputs": [],
   "source": [
    "import re;\n",
    "\n",
    "words = [ \"Stats\", \"Amore, Roma\", \"No 'x' in Nixon\", \"Was it a cat I saw?\" ]\n",
    "\n",
    "for w in words:\n",
    "  cleansed = re.sub(\"\\W\", \"\", w).lower()\n",
    "\n",
    "  if cleansed == cleansed[::-1]:\n",
    "    print(w, \"is a palindrome\")\n",
    "  else:\n",
    "    print(w, \"is not a palindrome\")"
   ]
  }
 ],
 "metadata": {
  "interpreter": {
   "hash": "8b2332570d47693ad2ba38e4a8b45274812561ba199ac05a97c3450187fde315"
  },
  "kernelspec": {
   "display_name": "Python 3.8.8 64-bit ('base': conda)",
   "language": "python",
   "name": "python3"
  },
  "language_info": {
   "codemirror_mode": {
    "name": "ipython",
    "version": 3
   },
   "file_extension": ".py",
   "mimetype": "text/x-python",
   "name": "python",
   "nbconvert_exporter": "python",
   "pygments_lexer": "ipython3",
   "version": "3.8.8"
  },
  "orig_nbformat": 4
 },
 "nbformat": 4,
 "nbformat_minor": 2
}
